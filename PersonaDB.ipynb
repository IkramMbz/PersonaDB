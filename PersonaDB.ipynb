{
 "cells": [
  {
   "cell_type": "code",
   "execution_count": null,
   "id": "7339dc2b",
   "metadata": {},
   "outputs": [],
   "source": [
    "# Vérifier si mysql-connector-python est déjà installé :\n",
    "# Si l'import échoue, cela signifie que le module n'est pas installé.\n",
    "try:\n",
    "    import mysql.connector\n",
    "    print(\"Module déjà installé.\")\n",
    "\n",
    "# Sinon on l'installe\n",
    "except ImportError:\n",
    "    import subprocess\n",
    "    subprocess.check_call([\"pip\", \"install\", \"mysql-connector-python\"])"
   ]
  },
  {
   "cell_type": "code",
   "execution_count": null,
   "id": "6202f686",
   "metadata": {},
   "outputs": [],
   "source": [
    "# Import des modules nécessaires\n",
    "import datetime\n",
    "import mysql.connector"
   ]
  },
  {
   "cell_type": "code",
   "execution_count": null,
   "id": "eb3391fe",
   "metadata": {},
   "outputs": [],
   "source": [
    "# Connexion à la base de données\n",
    "# Veuillez remplacer 'utilisateur' et 'motdepasse' par vos identifiants MySQL\n",
    "# et 'ma_base_de_donnees' par le nom de votre base de données\n",
    "conn = mysql.connector.connect(user='utilisateur', password='motdepasse', host='localhost', database='ma_base_de_donnees')\n",
    "\n",
    "# Création d'un objet curseur pour exécuter les requêtes SQL\n",
    "cursor = conn.cursor()\n",
    "\n",
    "# Création de la table 'individus' si elle n'existe pas déjà\n",
    "cursor.execute(\"\"\"\n",
    "    CREATE TABLE IF NOT EXISTS individus (\n",
    "        id INT AUTO_INCREMENT PRIMARY KEY,\n",
    "        prenom VARCHAR(255),\n",
    "        nom VARCHAR(255),\n",
    "        sexe VARCHAR(10),\n",
    "        date_de_naissance DATE,\n",
    "        date_de_deces DATE,\n",
    "        profession VARCHAR(255),\n",
    "        nationalite VARCHAR(255)\n",
    "    )\n",
    "\"\"\")"
   ]
  },
  {
   "cell_type": "code",
   "execution_count": null,
   "id": "facdd4f0",
   "metadata": {},
   "outputs": [],
   "source": [
    "# Lecture des données depuis les fichiers\n",
    "# 'individus.txt' contient les informations individuelles\n",
    "# 'nationalites.txt' contient les nationalités correspondantes aux individus\n",
    "with open('individus.txt', 'r', encoding='utf-8') as f1, open('nationalites.txt', 'r', encoding='utf-8') as f2:\n",
    "    # Création d'un dictionnaire pour stocker les nationalités\n",
    "    nationalites = {}\n",
    "    for line in f2:\n",
    "        id, nationalite = line.strip().split(';')\n",
    "        nationalites[id] = nationalite\n",
    "\n",
    "    # Lecture de toutes les lignes de 'individus.txt' et stockage dans une liste\n",
    "    individus_raw = list(f1)\n",
    "\n",
    "    # Parcours des informations individuelles\n",
    "    individus = []\n",
    "    for i, line in enumerate(individus_raw, start=1):\n",
    "        # Extraction des informations\n",
    "        id, prenom, nom_complet, sexe, date_naissance, date_deces, profession = line.strip().split(';')\n",
    "\n",
    "        # Vérification de la présence de l'individu dans 'nationalites.txt'\n",
    "        if id not in nationalites:\n",
    "            continue\n",
    "\n",
    "        # Conversion des dates en objets datetime.date ou None si 'NA'\n",
    "        date_naissance = None if date_naissance == 'NA' else datetime.datetime.strptime(date_naissance, '%d-%m-%Y').date()\n",
    "        date_deces = None if date_deces == 'NA' else datetime.datetime.strptime(date_deces, '%d-%m-%Y').date()\n",
    "\n",
    "        # Récupération de la nationalité correspondante à l'individu\n",
    "        nationalite = nationalites[id]\n",
    "\n",
    "        # Création d'un dictionnaire pour stocker les informations de l'individu\n",
    "        individu = {\n",
    "            'id': id,\n",
    "            'prenom': prenom,\n",
    "            'nom': nom_complet,\n",
    "            'sexe': sexe,\n",
    "            'date_naissance': date_naissance,\n",
    "            'date_deces': date_deces,\n",
    "            'profession': profession,\n",
    "            'nationalite': nationalite\n",
    "        }\n",
    "\n",
    "        # Ajout de l'individu à la liste des individus\n",
    "        individus.append(individu)\n",
    "\n",
    "        # Affichage de la progression\n",
    "        print(f\"{i}/{len(individus_raw)} lignes traitées.\")"
   ]
  },
  {
   "cell_type": "code",
   "execution_count": null,
   "id": "e6777405",
   "metadata": {},
   "outputs": [],
   "source": [
    "# Boucle pour envoyer les données des individus sur la base de données\n",
    "sql = \"INSERT INTO individus (id, prenom, nom, sexe, date_de_naissance, date_de_deces, profession, nationalite) VALUES (%s, %s, %s, %s, %s, %s, %s, %s) ON DUPLICATE KEY UPDATE prenom=VALUES(prenom), nom=VALUES(nom), sexe=VALUES(sexe), date_de_naissance=VALUES(date_de_naissance), date_de_deces=VALUES(date_de_deces), profession=VALUES(profession), nationalite=VALUES(nationalite)\"\n",
    "val = [(individu['id'], individu['prenom'], individu['nom'], individu['sexe'], individu['date_naissance'], individu['date_deces'], individu['profession'], individu['nationalite']) for individu in individus]\n",
    "cursor.executemany(sql, val)\n",
    "\n",
    "# Enregistrement des changements dans la base de données\n",
    "conn.commit()\n",
    "\n",
    "# Fermeture de la connexion à la base de données\n",
    "conn.close()"
   ]
  }
 ],
 "metadata": {
  "kernelspec": {
   "display_name": "Python 3 (ipykernel)",
   "language": "python",
   "name": "python3"
  },
  "language_info": {
   "codemirror_mode": {
    "name": "ipython",
    "version": 3
   },
   "file_extension": ".py",
   "mimetype": "text/x-python",
   "name": "python",
   "nbconvert_exporter": "python",
   "pygments_lexer": "ipython3",
   "version": "3.9.7"
  }
 },
 "nbformat": 4,
 "nbformat_minor": 5
}
